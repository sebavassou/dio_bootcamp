{
  "nbformat": 4,
  "nbformat_minor": 0,
  "metadata": {
    "colab": {
      "provenance": [],
      "authorship_tag": "ABX9TyOPagiTRL0C+Jy9hhQe4Pio",
      "include_colab_link": true
    },
    "kernelspec": {
      "name": "python3",
      "display_name": "Python 3"
    },
    "language_info": {
      "name": "python"
    }
  },
  "cells": [
    {
      "cell_type": "markdown",
      "metadata": {
        "id": "view-in-github",
        "colab_type": "text"
      },
      "source": [
        "<a href=\"https://colab.research.google.com/github/sebavassou/dio_bootcamp/blob/main/transferlearning0002.ipynb\" target=\"_parent\"><img src=\"https://colab.research.google.com/assets/colab-badge.svg\" alt=\"Open In Colab\"/></a>"
      ]
    },
    {
      "cell_type": "code",
      "source": [
        "%matplotlib inline\n",
        "\n",
        "import os\n",
        "\n",
        "#if using Theano with GPU\n",
        "#os.environ[\"KERAS_BACKEND\"] = \"tensorflow\"\n",
        "\n",
        "import random\n",
        "import numpy as np\n",
        "import keras\n",
        "\n",
        "import matplotlib.pyplot as plt\n",
        "from matplotlib.pyplot import imshow\n",
        "\n",
        "from keras.preprocessing import image\n",
        "from keras.applications.imagenet_utils import preprocess_input\n",
        "from keras.models import Sequential\n",
        "from keras.layers import Dense, Dropout, Flatten, Activation\n",
        "from keras.layers import Conv2D, MaxPooling2D\n",
        "from keras.models import Model"
      ],
      "metadata": {
        "id": "TCcncMVa3Z_6"
      },
      "execution_count": 2,
      "outputs": []
    },
    {
      "cell_type": "code",
      "source": [],
      "metadata": {
        "id": "627Wf27YA6IT"
      },
      "execution_count": null,
      "outputs": []
    },
    {
      "cell_type": "markdown",
      "source": [],
      "metadata": {
        "id": "K80txLzfA6ew"
      }
    },
    {
      "cell_type": "code",
      "source": [
        "!tar -xzf 101_ObjectCategories.tar.gz\n",
        "!rm 101_ObjectCategories.tar.gz\n",
        "!ls"
      ],
      "metadata": {
        "colab": {
          "base_uri": "https://localhost:8080/"
        },
        "id": "RjeAiTJ33M9j",
        "outputId": "e68bba57-2167-4e93-87ad-bd0beb778569"
      },
      "execution_count": 12,
      "outputs": [
        {
          "output_type": "stream",
          "name": "stdout",
          "text": [
            "101_ObjectCategories  sample_data\n"
          ]
        }
      ]
    },
    {
      "cell_type": "code",
      "source": [
        "root = '101_ObjectCategories'\n",
        "exclude = ['BACKGROUND_Google', 'Motorbikes', 'airplanes', 'Faces_easy', 'Faces']\n",
        "train_split, val_split = 0.7, 0.15\n",
        "\n",
        "categories = [x[0] for x in os.walk(root) if x[0]][1:]\n",
        "categories = [c for c in categories if c not in [os.path.join(root, e) for e in exclude]]\n",
        "\n",
        "print(categories)"
      ],
      "metadata": {
        "colab": {
          "base_uri": "https://localhost:8080/"
        },
        "id": "ZNru15Hv3T46",
        "outputId": "b303caff-9396-417b-8b78-1a167400cddc"
      },
      "execution_count": 13,
      "outputs": [
        {
          "output_type": "stream",
          "name": "stdout",
          "text": [
            "['101_ObjectCategories/ferry', '101_ObjectCategories/hawksbill', '101_ObjectCategories/ketch', '101_ObjectCategories/snoopy', '101_ObjectCategories/cougar_face', '101_ObjectCategories/octopus', '101_ObjectCategories/windsor_chair', '101_ObjectCategories/wheelchair', '101_ObjectCategories/mayfly', '101_ObjectCategories/grand_piano', '101_ObjectCategories/flamingo', '101_ObjectCategories/chair', '101_ObjectCategories/dalmatian', '101_ObjectCategories/tick', '101_ObjectCategories/menorah', '101_ObjectCategories/sea_horse', '101_ObjectCategories/trilobite', '101_ObjectCategories/bonsai', '101_ObjectCategories/revolver', '101_ObjectCategories/cellphone', '101_ObjectCategories/gerenuk', '101_ObjectCategories/pigeon', '101_ObjectCategories/ibis', '101_ObjectCategories/accordion', '101_ObjectCategories/wrench', '101_ObjectCategories/helicopter', '101_ObjectCategories/Leopards', '101_ObjectCategories/umbrella', '101_ObjectCategories/panda', '101_ObjectCategories/chandelier', '101_ObjectCategories/flamingo_head', '101_ObjectCategories/ant', '101_ObjectCategories/bass', '101_ObjectCategories/metronome', '101_ObjectCategories/barrel', '101_ObjectCategories/water_lilly', '101_ObjectCategories/dollar_bill', '101_ObjectCategories/headphone', '101_ObjectCategories/watch', '101_ObjectCategories/sunflower', '101_ObjectCategories/electric_guitar', '101_ObjectCategories/garfield', '101_ObjectCategories/pizza', '101_ObjectCategories/stapler', '101_ObjectCategories/dragonfly', '101_ObjectCategories/car_side', '101_ObjectCategories/ceiling_fan', '101_ObjectCategories/butterfly', '101_ObjectCategories/euphonium', '101_ObjectCategories/gramophone', '101_ObjectCategories/cannon', '101_ObjectCategories/lotus', '101_ObjectCategories/stop_sign', '101_ObjectCategories/scissors', '101_ObjectCategories/cougar_body', '101_ObjectCategories/emu', '101_ObjectCategories/laptop', '101_ObjectCategories/crocodile', '101_ObjectCategories/rhino', '101_ObjectCategories/buddha', '101_ObjectCategories/llama', '101_ObjectCategories/brontosaurus', '101_ObjectCategories/lamp', '101_ObjectCategories/cup', '101_ObjectCategories/dolphin', '101_ObjectCategories/anchor', '101_ObjectCategories/crayfish', '101_ObjectCategories/minaret', '101_ObjectCategories/lobster', '101_ObjectCategories/platypus', '101_ObjectCategories/nautilus', '101_ObjectCategories/crab', '101_ObjectCategories/beaver', '101_ObjectCategories/brain', '101_ObjectCategories/hedgehog', '101_ObjectCategories/kangaroo', '101_ObjectCategories/pagoda', '101_ObjectCategories/starfish', '101_ObjectCategories/crocodile_head', '101_ObjectCategories/saxophone', '101_ObjectCategories/soccer_ball', '101_ObjectCategories/okapi', '101_ObjectCategories/scorpion', '101_ObjectCategories/pyramid', '101_ObjectCategories/wild_cat', '101_ObjectCategories/strawberry', '101_ObjectCategories/elephant', '101_ObjectCategories/yin_yang', '101_ObjectCategories/inline_skate', '101_ObjectCategories/rooster', '101_ObjectCategories/ewer', '101_ObjectCategories/mandolin', '101_ObjectCategories/schooner', '101_ObjectCategories/binocular', '101_ObjectCategories/stegosaurus', '101_ObjectCategories/joshua_tree', '101_ObjectCategories/camera']\n"
          ]
        }
      ]
    },
    {
      "cell_type": "markdown",
      "source": [
        "\n",
        "Esta função é útil para pré-processar os dados em uma imagem e um vetor de entrada."
      ],
      "metadata": {
        "id": "PTmFCNNeA7oA"
      }
    },
    {
      "cell_type": "code",
      "source": [
        "# função auxiliar para carregar a imagem e retorná-la e inserir o vetor\n",
        "def get_image(path):\n",
        "    img = image.load_img(path, target_size=(224, 224))\n",
        "    x = image.img_to_array(img)\n",
        "    x = np.expand_dims(x, axis=0)\n",
        "    x = preprocess_input(x)\n",
        "    return img, x"
      ],
      "metadata": {
        "id": "Nh-B2ydCA7-w"
      },
      "execution_count": 14,
      "outputs": []
    },
    {
      "cell_type": "markdown",
      "source": [],
      "metadata": {
        "id": "w_-n2ySODqbQ"
      }
    },
    {
      "cell_type": "code",
      "source": [
        "random.shuffle(data)"
      ],
      "metadata": {
        "id": "d-RgV8T5A_FJ"
      },
      "execution_count": null,
      "outputs": []
    },
    {
      "cell_type": "code",
      "source": [],
      "metadata": {
        "id": "FnrSSX-1A_IS"
      },
      "execution_count": null,
      "outputs": []
    },
    {
      "cell_type": "code",
      "source": [],
      "metadata": {
        "id": "z0-A1BzmA_L5"
      },
      "execution_count": null,
      "outputs": []
    },
    {
      "cell_type": "code",
      "source": [],
      "metadata": {
        "id": "gZDON7QKA_RJ"
      },
      "execution_count": null,
      "outputs": []
    }
  ]
}